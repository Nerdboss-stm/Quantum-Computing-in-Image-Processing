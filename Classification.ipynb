{
  "nbformat": 4,
  "nbformat_minor": 0,
  "metadata": {
    "colab": {
      "provenance": [],
      "machine_shape": "hm",
      "gpuType": "L4"
    },
    "kernelspec": {
      "name": "python3",
      "display_name": "Python 3"
    },
    "language_info": {
      "name": "python"
    },
    "accelerator": "GPU"
  },
  "cells": [
    {
      "cell_type": "code",
      "execution_count": 14,
      "metadata": {
        "colab": {
          "base_uri": "https://localhost:8080/"
        },
        "id": "Tp1Da6CMXCUo",
        "outputId": "f42b78f8-3f11-4506-9318-9a4f1ed48f22"
      },
      "outputs": [
        {
          "output_type": "stream",
          "name": "stdout",
          "text": [
            "Requirement already satisfied: pennylane in /usr/local/lib/python3.10/dist-packages (0.39.0)\n",
            "Requirement already satisfied: pennylane-lightning in /usr/local/lib/python3.10/dist-packages (0.39.0)\n",
            "Requirement already satisfied: pennylane-lightning-gpu in /usr/local/lib/python3.10/dist-packages (0.39.0)\n",
            "Requirement already satisfied: numpy<2.1 in /usr/local/lib/python3.10/dist-packages (from pennylane) (1.26.4)\n",
            "Requirement already satisfied: scipy in /usr/local/lib/python3.10/dist-packages (from pennylane) (1.13.1)\n",
            "Requirement already satisfied: networkx in /usr/local/lib/python3.10/dist-packages (from pennylane) (3.4.2)\n",
            "Requirement already satisfied: rustworkx>=0.14.0 in /usr/local/lib/python3.10/dist-packages (from pennylane) (0.15.1)\n",
            "Requirement already satisfied: autograd in /usr/local/lib/python3.10/dist-packages (from pennylane) (1.7.0)\n",
            "Requirement already satisfied: toml in /usr/local/lib/python3.10/dist-packages (from pennylane) (0.10.2)\n",
            "Requirement already satisfied: appdirs in /usr/local/lib/python3.10/dist-packages (from pennylane) (1.4.4)\n",
            "Requirement already satisfied: autoray>=0.6.11 in /usr/local/lib/python3.10/dist-packages (from pennylane) (0.7.0)\n",
            "Requirement already satisfied: cachetools in /usr/local/lib/python3.10/dist-packages (from pennylane) (5.5.0)\n",
            "Requirement already satisfied: requests in /usr/local/lib/python3.10/dist-packages (from pennylane) (2.32.3)\n",
            "Requirement already satisfied: typing-extensions in /usr/local/lib/python3.10/dist-packages (from pennylane) (4.12.2)\n",
            "Requirement already satisfied: packaging in /usr/local/lib/python3.10/dist-packages (from pennylane) (24.2)\n",
            "Requirement already satisfied: charset-normalizer<4,>=2 in /usr/local/lib/python3.10/dist-packages (from requests->pennylane) (3.4.0)\n",
            "Requirement already satisfied: idna<4,>=2.5 in /usr/local/lib/python3.10/dist-packages (from requests->pennylane) (3.10)\n",
            "Requirement already satisfied: urllib3<3,>=1.21.1 in /usr/local/lib/python3.10/dist-packages (from requests->pennylane) (2.2.3)\n",
            "Requirement already satisfied: certifi>=2017.4.17 in /usr/local/lib/python3.10/dist-packages (from requests->pennylane) (2024.8.30)\n"
          ]
        }
      ],
      "source": [
        "!python -m pip install pennylane pennylane-lightning pennylane-lightning-gpu --upgrade\n"
      ]
    },
    {
      "cell_type": "code",
      "source": [
        "!pip install custatevec-cu12\n"
      ],
      "metadata": {
        "colab": {
          "base_uri": "https://localhost:8080/"
        },
        "id": "_MwHyfbwmpLQ",
        "outputId": "d74b1070-c4e8-4cbf-d0b5-10337893bd2b"
      },
      "execution_count": 15,
      "outputs": [
        {
          "output_type": "stream",
          "name": "stdout",
          "text": [
            "Requirement already satisfied: custatevec-cu12 in /usr/local/lib/python3.10/dist-packages (1.7.0)\n"
          ]
        }
      ]
    },
    {
      "cell_type": "code",
      "source": [
        "import pennylane as qml\n",
        "from pennylane import numpy as np\n",
        "from sklearn.decomposition import PCA\n",
        "from sklearn.preprocessing import StandardScaler\n",
        "from sklearn.svm import SVC\n",
        "from sklearn.metrics import accuracy_score\n",
        "from keras.datasets import mnist\n",
        "import time\n",
        "import tensorflow as tf\n",
        "print(\"Available devices:\")\n",
        "print(tf.config.list_physical_devices('GPU'))\n",
        "\n",
        "# Load the MNIST dataset\n",
        "print(\"Loading MNIST dataset...\")\n",
        "(x_train, y_train), (x_test, y_test) = mnist.load_data()\n",
        "\n",
        "# Normalize and flatten the MNIST data\n",
        "x_train_flat = x_train.reshape(len(x_train), -1) / 255.0\n",
        "x_test_flat = x_test.reshape(len(x_test), -1) / 255.0\n",
        "\n",
        "# Reduce dimensionality using PCA\n",
        "pca = PCA(n_components=10)\n",
        "x_train_pca = pca.fit_transform(x_train_flat)\n",
        "x_test_pca = pca.transform(x_test_flat)\n",
        "\n",
        "# Scale the data\n",
        "scaler = StandardScaler()\n",
        "x_train_scaled = scaler.fit_transform(x_train_pca)\n",
        "x_test_scaled = scaler.transform(x_test_pca)\n",
        "\n",
        "# Subset for faster computation\n",
        "x_train_subset, y_train_subset = x_train_scaled[:200], y_train[:200]\n",
        "x_test_subset, y_test_subset = x_test_scaled[:50], y_test[:50]\n",
        "\n",
        "# Convert labels to binary classification (digit 0 vs not 0)\n",
        "y_train_subset = np.array([1 if y == 0 else 0 for y in y_train_subset])\n",
        "y_test_subset = np.array([1 if y == 0 else 0 for y in y_test_subset])\n",
        "\n",
        "# Quantum device setup using TensorFlow backend\n",
        "n_qubits = 10  # Match PCA output dimensions\n",
        "dev = qml.device(\"lightning.gpu\", wires=n_qubits)\n",
        "\n",
        "# Define a variational quantum circuit for kernel computation\n",
        "@qml.qnode(dev, interface=\"tf\")\n",
        "def quantum_circuit(x1, x2):\n",
        "    # Encode the first data point\n",
        "    for i in range(n_qubits):\n",
        "        qml.RX(x1[i], wires=i)\n",
        "        qml.RY(x1[i], wires=i)\n",
        "        qml.RZ(x1[i], wires=i)\n",
        "\n",
        "    # Apply entanglement\n",
        "    for i in range(n_qubits - 1):\n",
        "        qml.CNOT(wires=[i, i + 1])\n",
        "\n",
        "    # Encode the second data point\n",
        "    for i in range(n_qubits):\n",
        "        qml.RX(x2[i], wires=i)\n",
        "        qml.RY(x2[i], wires=i)\n",
        "        qml.RZ(x2[i], wires=i)\n",
        "\n",
        "    # Measure the overlap between states\n",
        "    return qml.expval(qml.PauliZ(0))\n",
        "\n",
        "def quantum_kernel(x1, x2):\n",
        "    \"\"\"Compute the quantum kernel using the defined quantum circuit.\"\"\"\n",
        "    return quantum_circuit(x1, x2)\n",
        "\n",
        "# Compute the kernel matrix\n",
        "def compute_kernel_matrix(data1, data2):\n",
        "    \"\"\"Compute the kernel matrix using the quantum kernel.\"\"\"\n",
        "    kernel_matrix = np.zeros((len(data1), len(data2)))\n",
        "    for i in range(len(data1)):\n",
        "        for j in range(len(data2)):\n",
        "            kernel_matrix[i, j] = quantum_kernel(data1[i], data2[j])\n",
        "    return kernel_matrix\n",
        "\n",
        "# Train the quantum-enhanced SVM\n",
        "print(\"Training the quantum-enhanced SVM...\")\n",
        "start_time = time.time()\n",
        "\n",
        "# Compute the quantum kernel matrices\n",
        "quantum_train_kernel = compute_kernel_matrix(x_train_subset, x_train_subset)\n",
        "quantum_test_kernel = compute_kernel_matrix(x_test_subset, x_train_subset)\n",
        "\n",
        "# Train the SVM\n",
        "qsvm = SVC(kernel=\"precomputed\")\n",
        "qsvm.fit(quantum_train_kernel, y_train_subset)\n",
        "\n",
        "# Predict and evaluate\n",
        "y_pred = qsvm.predict(quantum_test_kernel)\n",
        "accuracy = accuracy_score(y_test_subset, y_pred)\n",
        "end_time = time.time()\n",
        "\n",
        "# Results\n",
        "print(\"\\n--- Results ---\")\n",
        "print(f\"Quantum SVM Accuracy: {accuracy:.4f}\")\n",
        "print(f\"Total Computation Time: {end_time - start_time:.2f} seconds\")\n",
        "\n",
        "time_quantum = end_time - start_time\n"
      ],
      "metadata": {
        "colab": {
          "base_uri": "https://localhost:8080/"
        },
        "id": "TnKVA6-ujlR2",
        "outputId": "b4b14e47-7f4c-4b1b-a90b-4009bd5aa272"
      },
      "execution_count": 16,
      "outputs": [
        {
          "output_type": "stream",
          "name": "stdout",
          "text": [
            "Available devices:\n",
            "[PhysicalDevice(name='/physical_device:GPU:0', device_type='GPU')]\n",
            "Loading MNIST dataset...\n",
            "Training the quantum-enhanced SVM...\n",
            "\n",
            "--- Results ---\n",
            "Quantum SVM Accuracy: 0.9000\n",
            "Total Computation Time: 299.97 seconds\n"
          ]
        }
      ]
    },
    {
      "cell_type": "code",
      "source": [
        "import numpy as np\n",
        "from sklearn.decomposition import PCA\n",
        "from sklearn.preprocessing import StandardScaler\n",
        "from sklearn.svm import SVC\n",
        "from sklearn.metrics import accuracy_score\n",
        "from keras.datasets import mnist\n",
        "# Train a classical SVM for comparison\n",
        "print(\"Training the classical SVM...\")\n",
        "start_time = time.time()\n",
        "\n",
        "# Load the MNIST dataset\n",
        "print(\"Loading MNIST dataset...\")\n",
        "(x_train, y_train), (x_test, y_test) = mnist.load_data()\n",
        "\n",
        "# Normalize and flatten the MNIST data\n",
        "x_train_flat = x_train.reshape(len(x_train), -1) / 255.0\n",
        "x_test_flat = x_test.reshape(len(x_test), -1) / 255.0\n",
        "\n",
        "# Reduce dimensionality using PCA\n",
        "pca = PCA(n_components=10)\n",
        "x_train_pca = pca.fit_transform(x_train_flat)\n",
        "x_test_pca = pca.transform(x_test_flat)\n",
        "\n",
        "# Scale the data\n",
        "scaler = StandardScaler()\n",
        "x_train_scaled = scaler.fit_transform(x_train_pca)\n",
        "x_test_scaled = scaler.transform(x_test_pca)\n",
        "\n",
        "# Subset for faster computation\n",
        "x_train_subset, y_train_subset = x_train_scaled[:200], y_train[:200]\n",
        "x_test_subset, y_test_subset = x_test_scaled[:50], y_test[:50]\n",
        "\n",
        "\n",
        "classical_svm = SVC(kernel=\"linear\")\n",
        "classical_svm.fit(x_train_subset, y_train_subset)\n",
        "\n",
        "# Predict and evaluate\n",
        "y_pred_classical = classical_svm.predict(x_test_subset)\n",
        "accuracy_classical = accuracy_score(y_test_subset, y_pred_classical)\n",
        "end_time_Classical = time.time()\n",
        "\n",
        "# Results\n",
        "print(\"\\n--- Classical Results ---\")\n",
        "print(f\"Classical SVM Accuracy: {accuracy_classical:.4f}\")\n",
        "print(f\"Total Computation Time: {end_time_Classical - start_time:.2f} seconds\")\n",
        "\n",
        "time_classical = end_time_Classical - start_time"
      ],
      "metadata": {
        "colab": {
          "base_uri": "https://localhost:8080/"
        },
        "id": "6pVW8t-7V5xv",
        "outputId": "dfe9a459-3100-44e8-a6a1-31b6d882ad29"
      },
      "execution_count": 17,
      "outputs": [
        {
          "output_type": "stream",
          "name": "stdout",
          "text": [
            "Training the classical SVM...\n",
            "Loading MNIST dataset...\n",
            "\n",
            "--- Classical Results ---\n",
            "Classical SVM Accuracy: 0.7400\n",
            "Total Computation Time: 0.89 seconds\n"
          ]
        }
      ]
    },
    {
      "cell_type": "code",
      "source": [
        "import matplotlib.pyplot as plt\n",
        "# Visualize a subset of predictions\n",
        "# Visualization of accuracy comparison\n",
        "accuracies = [accuracy, accuracy_classical]\n",
        "methods = ['Quantum SVM', 'Classical SVM']\n",
        "\n",
        "plt.figure(figsize=(8, 6))\n",
        "plt.bar(methods, accuracies, width=0.4)\n",
        "plt.ylim(0, 1)\n",
        "plt.ylabel('Accuracy')\n",
        "plt.title('Accuracy Comparison')\n",
        "plt.text(0, accuracy, f\"{accuracy:.4f}\", ha='center', va='bottom')\n",
        "plt.text(1, accuracy_classical, f\"{accuracy_classical:.4f}\", ha='center', va='bottom')\n",
        "plt.show()\n",
        "\n"
      ],
      "metadata": {
        "colab": {
          "base_uri": "https://localhost:8080/",
          "height": 545
        },
        "id": "MCDzJhYuXrJk",
        "outputId": "f4768af7-f5a1-4fc4-d622-7d5ae1ef6a46"
      },
      "execution_count": 18,
      "outputs": [
        {
          "output_type": "display_data",
          "data": {
            "text/plain": [
              "<Figure size 800x600 with 1 Axes>"
            ],
            "image/png": "[encoded data removed]"
          },
          "metadata": {}
        }
      ]
    },
    {
      "cell_type": "code",
      "source": [
        "# Visualization of computational time comparison\n",
        "times = [time_quantum, time_classical]\n",
        "methods = ['Quantum SVM', 'Classical SVM']\n",
        "\n",
        "plt.figure(figsize=(8, 6))\n",
        "plt.bar(methods, times, width=0.4)\n",
        "plt.ylabel('Time (seconds)')\n",
        "plt.title('Computational Time Comparison')\n",
        "plt.text(0, time_quantum, f\"{time_quantum:.2f}s\", ha='center', va='bottom')\n",
        "plt.text(1, time_classical, f\"{time_classical:.2f}s\", ha='center', va='bottom')\n",
        "plt.show()\n"
      ],
      "metadata": {
        "colab": {
          "base_uri": "https://localhost:8080/",
          "height": 545
        },
        "id": "fbdmZO7KYL1y",
        "outputId": "0e2b3f14-56a4-4b23-8078-31900810dcf5"
      },
      "execution_count": 22,
      "outputs": [
        {
          "output_type": "display_data",
          "data": {
            "text/plain": [
              "<Figure size 800x600 with 1 Axes>"
            ],
            "image/png": "[encoded data removed]"
          },
          "metadata": {}
        }
      ]
    }
  ]
}
